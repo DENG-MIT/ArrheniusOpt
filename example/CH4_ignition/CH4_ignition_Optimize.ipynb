{
 "cells": [
  {
   "cell_type": "code",
   "execution_count": 1,
   "metadata": {},
   "outputs": [
    {
     "name": "stderr",
     "output_type": "stream",
     "text": [
      "┌ Info: Precompiling Arrhenius [d1b5debe-99ef-4a51-88bd-55361cc46b8b]\n",
      "└ @ Base loading.jl:1278\n",
      "┌ Info: Precompiling DiffEqSensitivity [41bf760c-e81c-5289-8e54-58b1f1f8abe2]\n",
      "└ @ Base loading.jl:1278\n",
      "┌ Info: Precompiling DifferentialEquations [0c46a032-eb83-5123-abaf-570d42b7fbaa]\n",
      "└ @ Base loading.jl:1278\n"
     ]
    }
   ],
   "source": [
    "using Arrhenius\n",
    "using ForwardDiff\n",
    "using LinearAlgebra\n",
    "using DiffEqSensitivity\n",
    "using DifferentialEquations\n",
    "\n",
    "using Random\n",
    "using ProgressBars\n",
    "using DelimitedFiles\n",
    "using Plots, Printf, Profile"
   ]
  },
  {
   "cell_type": "code",
   "execution_count": null,
   "metadata": {},
   "outputs": [],
   "source": [
    "gas = CreateSolution(\"../../mechanism/gri30.yaml\")\n",
    "ns = gas.n_species\n",
    "nr = gas.n_reactions\n",
    "gas.species_names;"
   ]
  }
 ],
 "metadata": {
  "kernelspec": {
   "display_name": "Julia 1.5.2",
   "language": "julia",
   "name": "julia-1.5"
  },
  "language_info": {
   "file_extension": ".jl",
   "mimetype": "application/julia",
   "name": "julia",
   "version": "1.5.2"
  }
 },
 "nbformat": 4,
 "nbformat_minor": 4
}
